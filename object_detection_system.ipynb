{
 "cells": [
  {
   "cell_type": "code",
   "execution_count": null,
   "metadata": {},
   "outputs": [],
   "source": [
    "import cv2\n",
    "import matplotlib.pyplot as plt\n",
    "import numpy as np\n",
    "\n",
    "config_file = 'Object_Detection_System\\ssd_mobilenet_v3_large_coco_2020_01_14.pbtxt'\n",
    "frozen_model = 'Object_Detection_System\\-frozen_inference_graph.pb'\n",
    "\n",
    "model = cv2.dnn_DetectionModel(frozen_model, config_file)\n",
    "\n",
    "classLabels = []\n",
    "file_name = 'Labels.txt'\n",
    "\n",
    "with open(file_name, 'rt') as file:\n",
    "    classLabels = file.read().rstrip('\\n').split('\\n')\n",
    "\n",
    "model.setInputSize(320,320)\n",
    "model.setInputScale(1.0/127.5)\n",
    "model.setInputMean(127.5)\n",
    "model.setInputSwapRB(True)\n",
    "\n",
    "np.random.seed(543210)\n",
    "colors = np.random.uniform(0, 255, size=(len(classLabels), 3))\n",
    "\n",
    "video = \"Traffic.mp4\"\n",
    "cap = cv2.VideoCapture(video)\n",
    "\n",
    "font = cv2.FONT_HERSHEY_SIMPLEX\n",
    "\n",
    "while True:\n",
    "\n",
    "    ret, frame = cap.read()\n",
    "\n",
    "    class_index, confidence, bbox = model.detect(frame, confThreshold=0.55)\n",
    "    \n",
    "    if len(class_index)!=0:\n",
    "        for classInd, conf, boxes in zip(class_index.flatten(), confidence.flatten(), bbox):\n",
    "            if classInd <= 80:\n",
    "                prediction_text = f\"{classLabels[classInd-1]}: {conf:.2f}%\"\n",
    "                cv2.rectangle(frame, boxes, colors[classInd], 2)\n",
    "                cv2.putText(frame, prediction_text, (boxes[0]+10, boxes[1]+40),\n",
    "                            font, 0.6, colors[classInd-1], 2)\n",
    "    \n",
    "    cv2.imshow(\"Detected Objects\", frame)\n",
    "    cv2.waitKey(5)\n",
    "\n",
    "cap.release()\n",
    "cv2.destroyAllWindows()"
   ]
  }
 ],
 "metadata": {
  "kernelspec": {
   "display_name": "Python 3",
   "language": "python",
   "name": "python3"
  },
  "language_info": {
   "codemirror_mode": {
    "name": "ipython",
    "version": 3
   },
   "file_extension": ".py",
   "mimetype": "text/x-python",
   "name": "python",
   "nbconvert_exporter": "python",
   "pygments_lexer": "ipython3",
   "version": "3.11.3"
  },
  "orig_nbformat": 4
 },
 "nbformat": 4,
 "nbformat_minor": 2
}
